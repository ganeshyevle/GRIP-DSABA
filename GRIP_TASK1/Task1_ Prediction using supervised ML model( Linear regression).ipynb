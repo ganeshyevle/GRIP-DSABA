{
 "cells": [
  {
   "cell_type": "markdown",
   "id": "2b8a21dc",
   "metadata": {},
   "source": [
    "# Data Science and Business Analytics"
   ]
  },
  {
   "cell_type": "markdown",
   "id": "6e5b8e4e",
   "metadata": {},
   "source": [
    "# Task1: Prediction using supervised ML model( Linear regression)"
   ]
  },
  {
   "cell_type": "markdown",
   "id": "2b11e2fd",
   "metadata": {},
   "source": [
    "The Sparks Foundation\n",
    "\n",
    "AUTHOR: GANESH KAILAS YEVLE\n",
    "\n",
    "BATCH: GRIPJULY2022"
   ]
  },
  {
   "cell_type": "markdown",
   "id": "93b31564",
   "metadata": {},
   "source": [
    "**Perform exploratory Data Analysis on dataset \"Students\" to predict the percentage of the marks of the students based on the number of hours they studied.**"
   ]
  },
  {
   "cell_type": "code",
   "execution_count": 6,
   "id": "99052b14",
   "metadata": {},
   "outputs": [],
   "source": [
    "# importing the required liabraries\n",
    "import pandas as pd\n",
    "import numpy as np  \n",
    "import seaborn as sns\n",
    "import matplotlib.pyplot as plt\n",
    "from sklearn import datasets\n",
    "from sklearn.cluster import KMeans\n",
    "from sklearn.model_selection import train_test_split\n",
    "from sklearn.linear_model import LinearRegression\n",
    "from sklearn.metrics import mean_absolute_error\n",
    "from sklearn import metrics\n"
   ]
  },
  {
   "cell_type": "code",
   "execution_count": 7,
   "id": "b7be3c20",
   "metadata": {},
   "outputs": [
    {
     "data": {
      "text/html": [
       "<div>\n",
       "<style scoped>\n",
       "    .dataframe tbody tr th:only-of-type {\n",
       "        vertical-align: middle;\n",
       "    }\n",
       "\n",
       "    .dataframe tbody tr th {\n",
       "        vertical-align: top;\n",
       "    }\n",
       "\n",
       "    .dataframe thead th {\n",
       "        text-align: right;\n",
       "    }\n",
       "</style>\n",
       "<table border=\"1\" class=\"dataframe\">\n",
       "  <thead>\n",
       "    <tr style=\"text-align: right;\">\n",
       "      <th></th>\n",
       "      <th>Hours</th>\n",
       "      <th>Scores</th>\n",
       "    </tr>\n",
       "  </thead>\n",
       "  <tbody>\n",
       "    <tr>\n",
       "      <th>0</th>\n",
       "      <td>2.5</td>\n",
       "      <td>21</td>\n",
       "    </tr>\n",
       "    <tr>\n",
       "      <th>1</th>\n",
       "      <td>5.1</td>\n",
       "      <td>47</td>\n",
       "    </tr>\n",
       "    <tr>\n",
       "      <th>2</th>\n",
       "      <td>3.2</td>\n",
       "      <td>27</td>\n",
       "    </tr>\n",
       "    <tr>\n",
       "      <th>3</th>\n",
       "      <td>8.5</td>\n",
       "      <td>75</td>\n",
       "    </tr>\n",
       "    <tr>\n",
       "      <th>4</th>\n",
       "      <td>3.5</td>\n",
       "      <td>30</td>\n",
       "    </tr>\n",
       "  </tbody>\n",
       "</table>\n",
       "</div>"
      ],
      "text/plain": [
       "   Hours  Scores\n",
       "0    2.5      21\n",
       "1    5.1      47\n",
       "2    3.2      27\n",
       "3    8.5      75\n",
       "4    3.5      30"
      ]
     },
     "execution_count": 7,
     "metadata": {},
     "output_type": "execute_result"
    }
   ],
   "source": [
    "#Reading the data \n",
    "sdata=pd.read_csv('http://bit.ly/w-data')\n",
    "sdata.head()"
   ]
  },
  {
   "cell_type": "code",
   "execution_count": 8,
   "id": "6f963935",
   "metadata": {},
   "outputs": [
    {
     "name": "stdout",
     "output_type": "stream",
     "text": [
      "OUTPUT : There is no any null value in the given dataset print False\n"
     ]
    }
   ],
   "source": [
    "#checking whether there is any null value then the output is TRUE\n",
    "if sdata.isnull== True:\n",
    "    print(\"OUTPUT : There is any null value the given dataset print print True\")\n",
    "else:\n",
    "    print(\"OUTPUT : There is no any null value in the given dataset print False\")"
   ]
  },
  {
   "cell_type": "markdown",
   "id": "33bd3937",
   "metadata": {},
   "source": [
    "**There is no null value in the dataset**"
   ]
  },
  {
   "cell_type": "code",
   "execution_count": 9,
   "id": "a0ac26d1",
   "metadata": {},
   "outputs": [
    {
     "data": {
      "image/png": "[encoded data removed]",
      "text/plain": [
       "<Figure size 432x288 with 1 Axes>"
      ]
     },
     "metadata": {},
     "output_type": "display_data"
    }
   ],
   "source": [
    "sns.set_style('darkgrid')\n",
    "sns.scatterplot(y=sdata['Scores'], x=sdata['Hours'])\n",
    "plt.title('Marks Vs Study Hours', size=17)\n",
    "plt.xlabel('Hours Studied', size=10)\n",
    "plt.ylabel('Marks percentage',size=10)\n",
    "plt.show()"
   ]
  },
  {
   "cell_type": "code",
   "execution_count": 11,
   "id": "c645509f",
   "metadata": {},
   "outputs": [
    {
     "data": {
      "text/html": [
       "<div>\n",
       "<style scoped>\n",
       "    .dataframe tbody tr th:only-of-type {\n",
       "        vertical-align: middle;\n",
       "    }\n",
       "\n",
       "    .dataframe tbody tr th {\n",
       "        vertical-align: top;\n",
       "    }\n",
       "\n",
       "    .dataframe thead th {\n",
       "        text-align: right;\n",
       "    }\n",
       "</style>\n",
       "<table border=\"1\" class=\"dataframe\">\n",
       "  <thead>\n",
       "    <tr style=\"text-align: right;\">\n",
       "      <th></th>\n",
       "      <th>Hours</th>\n",
       "      <th>Scores</th>\n",
       "    </tr>\n",
       "  </thead>\n",
       "  <tbody>\n",
       "    <tr>\n",
       "      <th>count</th>\n",
       "      <td>25.000000</td>\n",
       "      <td>25.000000</td>\n",
       "    </tr>\n",
       "    <tr>\n",
       "      <th>mean</th>\n",
       "      <td>5.012000</td>\n",
       "      <td>51.480000</td>\n",
       "    </tr>\n",
       "    <tr>\n",
       "      <th>std</th>\n",
       "      <td>2.525094</td>\n",
       "      <td>25.286887</td>\n",
       "    </tr>\n",
       "    <tr>\n",
       "      <th>min</th>\n",
       "      <td>1.100000</td>\n",
       "      <td>17.000000</td>\n",
       "    </tr>\n",
       "    <tr>\n",
       "      <th>25%</th>\n",
       "      <td>2.700000</td>\n",
       "      <td>30.000000</td>\n",
       "    </tr>\n",
       "    <tr>\n",
       "      <th>50%</th>\n",
       "      <td>4.800000</td>\n",
       "      <td>47.000000</td>\n",
       "    </tr>\n",
       "    <tr>\n",
       "      <th>75%</th>\n",
       "      <td>7.400000</td>\n",
       "      <td>75.000000</td>\n",
       "    </tr>\n",
       "    <tr>\n",
       "      <th>max</th>\n",
       "      <td>9.200000</td>\n",
       "      <td>95.000000</td>\n",
       "    </tr>\n",
       "  </tbody>\n",
       "</table>\n",
       "</div>"
      ],
      "text/plain": [
       "           Hours     Scores\n",
       "count  25.000000  25.000000\n",
       "mean    5.012000  51.480000\n",
       "std     2.525094  25.286887\n",
       "min     1.100000  17.000000\n",
       "25%     2.700000  30.000000\n",
       "50%     4.800000  47.000000\n",
       "75%     7.400000  75.000000\n",
       "max     9.200000  95.000000"
      ]
     },
     "execution_count": 11,
     "metadata": {},
     "output_type": "execute_result"
    }
   ],
   "source": [
    "sdata.describe()"
   ]
  },
  {
   "cell_type": "markdown",
   "id": "ab035efe",
   "metadata": {},
   "source": [
    "**Maximum And Minimum Hours or Scores in the given dataset is:**\n"
   ]
  },
  {
   "cell_type": "code",
   "execution_count": 20,
   "id": "f95413e1",
   "metadata": {},
   "outputs": [
    {
     "name": "stdout",
     "output_type": "stream",
     "text": [
      "Hours      9.2\n",
      "Scores    95.0\n",
      "dtype: float64 Hours      1.1\n",
      "Scores    17.0\n",
      "dtype: float64\n"
     ]
    }
   ],
   "source": [
    "print(sdata.max(),sdata.min())"
   ]
  },
  {
   "cell_type": "code",
   "execution_count": 15,
   "id": "b95bc15b",
   "metadata": {},
   "outputs": [
    {
     "data": {
      "text/plain": [
       "(25, 2)"
      ]
     },
     "execution_count": 15,
     "metadata": {},
     "output_type": "execute_result"
    }
   ],
   "source": [
    "#Shape of the dataset\n",
    "sdata.shape"
   ]
  },
  {
   "cell_type": "code",
   "execution_count": 16,
   "id": "e8308640",
   "metadata": {},
   "outputs": [
    {
     "name": "stdout",
     "output_type": "stream",
     "text": [
      "<class 'pandas.core.frame.DataFrame'>\n",
      "RangeIndex: 25 entries, 0 to 24\n",
      "Data columns (total 2 columns):\n",
      " #   Column  Non-Null Count  Dtype  \n",
      "---  ------  --------------  -----  \n",
      " 0   Hours   25 non-null     float64\n",
      " 1   Scores  25 non-null     int64  \n",
      "dtypes: float64(1), int64(1)\n",
      "memory usage: 528.0 bytes\n"
     ]
    }
   ],
   "source": [
    "#Info of the dataset\n",
    "sdata.info()"
   ]
  },
  {
   "cell_type": "code",
   "execution_count": 17,
   "id": "2959892a",
   "metadata": {},
   "outputs": [
    {
     "data": {
      "text/plain": [
       "Hours     float64\n",
       "Scores      int64\n",
       "dtype: object"
      ]
     },
     "execution_count": 17,
     "metadata": {},
     "output_type": "execute_result"
    }
   ],
   "source": [
    "#Datatypes\n",
    "sdata.dtypes"
   ]
  },
  {
   "cell_type": "code",
   "execution_count": 18,
   "id": "fc334862",
   "metadata": {},
   "outputs": [
    {
     "data": {
      "text/plain": [
       "Index(['Hours', 'Scores'], dtype='object')"
      ]
     },
     "execution_count": 18,
     "metadata": {},
     "output_type": "execute_result"
    }
   ],
   "source": [
    "#Attributes\n",
    "sdata.columns"
   ]
  },
  {
   "cell_type": "code",
   "execution_count": 19,
   "id": "171ddebc",
   "metadata": {},
   "outputs": [
    {
     "data": {
      "text/plain": [
       "0"
      ]
     },
     "execution_count": 19,
     "metadata": {},
     "output_type": "execute_result"
    }
   ],
   "source": [
    "#Checking for duplicated values\n",
    "sdata.duplicated().sum()"
   ]
  },
  {
   "cell_type": "code",
   "execution_count": 21,
   "id": "bac3c56d",
   "metadata": {},
   "outputs": [
    {
     "data": {
      "text/plain": [
       "Hours     0\n",
       "Scores    0\n",
       "dtype: int64"
      ]
     },
     "execution_count": 21,
     "metadata": {},
     "output_type": "execute_result"
    }
   ],
   "source": [
    "#Checking for null values\n",
    "sdata.isnull().sum()"
   ]
  },
  {
   "cell_type": "markdown",
   "id": "32b64abf",
   "metadata": {},
   "source": [
    "**From the above scatter plot, we can clearly see that there is a positive correlation between the hours of study and the marks percentage**"
   ]
  },
  {
   "cell_type": "code",
   "execution_count": 15,
   "id": "88b4b366",
   "metadata": {},
   "outputs": [
    {
     "data": {
      "image/png": "[encoded data removed]",
      "text/plain": [
       "<Figure size 432x288 with 1 Axes>"
      ]
     },
     "metadata": {},
     "output_type": "display_data"
    }
   ],
   "source": [
    "sns.regplot(x=sdata['Hours'],y=sdata['Scores'])\n",
    "plt.title('Regression Plot', size=20)\n",
    "plt.xlabel('Hours Studied',size=15)\n",
    "plt.ylabel('Marks Percentage',size=15)\n",
    "plt.show()"
   ]
  },
  {
   "cell_type": "markdown",
   "id": "467166cc",
   "metadata": {},
   "source": [
    "**This graph depicts that the hours studied and marks percentage is positively correlated** "
   ]
  },
  {
   "cell_type": "markdown",
   "id": "8b0ed767",
   "metadata": {},
   "source": [
    "**Preparing the Data**"
   ]
  },
  {
   "cell_type": "markdown",
   "id": "5c999792",
   "metadata": {},
   "source": [
    "**1) Splitting the Data** "
   ]
  },
  {
   "cell_type": "code",
   "execution_count": 16,
   "id": "8f466d4d",
   "metadata": {},
   "outputs": [],
   "source": [
    "#Defining x and y from the Data\n",
    "X = sdata.iloc[:, :-1].values  \n",
    "Y = sdata.iloc[:, 1].values "
   ]
  },
  {
   "cell_type": "code",
   "execution_count": 17,
   "id": "add58a29",
   "metadata": {},
   "outputs": [],
   "source": [
    "#splitting the data in two \n",
    "train_X,test_X, train_Y,test_Y = train_test_split(X,Y,test_size=0.2, random_state=0) "
   ]
  },
  {
   "cell_type": "markdown",
   "id": "960d71de",
   "metadata": {},
   "source": [
    "**2)Fitting the Data into the model**"
   ]
  },
  {
   "cell_type": "code",
   "execution_count": 19,
   "id": "e0b80315",
   "metadata": {},
   "outputs": [
    {
     "data": {
      "text/plain": [
       "LinearRegression()"
      ]
     },
     "execution_count": 19,
     "metadata": {},
     "output_type": "execute_result"
    }
   ],
   "source": [
    "regression=LinearRegression()\n",
    "regression.fit(train_X,train_Y)\n"
   ]
  },
  {
   "cell_type": "markdown",
   "id": "7503fc02",
   "metadata": {},
   "source": [
    "**Predicting the percentage of marks**"
   ]
  },
  {
   "cell_type": "code",
   "execution_count": 20,
   "id": "ed593003",
   "metadata": {},
   "outputs": [
    {
     "data": {
      "text/html": [
       "<div>\n",
       "<style scoped>\n",
       "    .dataframe tbody tr th:only-of-type {\n",
       "        vertical-align: middle;\n",
       "    }\n",
       "\n",
       "    .dataframe tbody tr th {\n",
       "        vertical-align: top;\n",
       "    }\n",
       "\n",
       "    .dataframe thead th {\n",
       "        text-align: right;\n",
       "    }\n",
       "</style>\n",
       "<table border=\"1\" class=\"dataframe\">\n",
       "  <thead>\n",
       "    <tr style=\"text-align: right;\">\n",
       "      <th></th>\n",
       "      <th>Hours</th>\n",
       "      <th>Predicted Marks</th>\n",
       "    </tr>\n",
       "  </thead>\n",
       "  <tbody>\n",
       "    <tr>\n",
       "      <th>0</th>\n",
       "      <td>1.5</td>\n",
       "      <td>16.884145</td>\n",
       "    </tr>\n",
       "    <tr>\n",
       "      <th>1</th>\n",
       "      <td>3.2</td>\n",
       "      <td>33.732261</td>\n",
       "    </tr>\n",
       "    <tr>\n",
       "      <th>2</th>\n",
       "      <td>7.4</td>\n",
       "      <td>75.357018</td>\n",
       "    </tr>\n",
       "    <tr>\n",
       "      <th>3</th>\n",
       "      <td>2.5</td>\n",
       "      <td>26.794801</td>\n",
       "    </tr>\n",
       "    <tr>\n",
       "      <th>4</th>\n",
       "      <td>5.9</td>\n",
       "      <td>60.491033</td>\n",
       "    </tr>\n",
       "  </tbody>\n",
       "</table>\n",
       "</div>"
      ],
      "text/plain": [
       "   Hours  Predicted Marks\n",
       "0    1.5        16.884145\n",
       "1    3.2        33.732261\n",
       "2    7.4        75.357018\n",
       "3    2.5        26.794801\n",
       "4    5.9        60.491033"
      ]
     },
     "execution_count": 20,
     "metadata": {},
     "output_type": "execute_result"
    }
   ],
   "source": [
    "pred_y=regression.predict(test_X)\n",
    "prediction= pd.DataFrame({'Hours':[i[0] for i in test_X],'Predicted Marks':[k for k in pred_y]})\n",
    "prediction"
   ]
  },
  {
   "cell_type": "code",
   "execution_count": 21,
   "id": "7d55457a",
   "metadata": {},
   "outputs": [
    {
     "name": "stdout",
     "output_type": "stream",
     "text": [
      "[20 27 69 30 62]\n"
     ]
    }
   ],
   "source": [
    "print(test_Y)"
   ]
  },
  {
   "cell_type": "markdown",
   "id": "baf0f38c",
   "metadata": {},
   "source": [
    "**Comapring the Data with the predicted marks**"
   ]
  },
  {
   "cell_type": "code",
   "execution_count": 22,
   "id": "5cbe2cba",
   "metadata": {},
   "outputs": [
    {
     "data": {
      "text/html": [
       "<div>\n",
       "<style scoped>\n",
       "    .dataframe tbody tr th:only-of-type {\n",
       "        vertical-align: middle;\n",
       "    }\n",
       "\n",
       "    .dataframe tbody tr th {\n",
       "        vertical-align: top;\n",
       "    }\n",
       "\n",
       "    .dataframe thead th {\n",
       "        text-align: right;\n",
       "    }\n",
       "</style>\n",
       "<table border=\"1\" class=\"dataframe\">\n",
       "  <thead>\n",
       "    <tr style=\"text-align: right;\">\n",
       "      <th></th>\n",
       "      <th>Actual Marks</th>\n",
       "      <th>Predicted Marks</th>\n",
       "    </tr>\n",
       "  </thead>\n",
       "  <tbody>\n",
       "    <tr>\n",
       "      <th>0</th>\n",
       "      <td>20</td>\n",
       "      <td>16.884145</td>\n",
       "    </tr>\n",
       "    <tr>\n",
       "      <th>1</th>\n",
       "      <td>27</td>\n",
       "      <td>33.732261</td>\n",
       "    </tr>\n",
       "    <tr>\n",
       "      <th>2</th>\n",
       "      <td>69</td>\n",
       "      <td>75.357018</td>\n",
       "    </tr>\n",
       "    <tr>\n",
       "      <th>3</th>\n",
       "      <td>30</td>\n",
       "      <td>26.794801</td>\n",
       "    </tr>\n",
       "    <tr>\n",
       "      <th>4</th>\n",
       "      <td>62</td>\n",
       "      <td>60.491033</td>\n",
       "    </tr>\n",
       "  </tbody>\n",
       "</table>\n",
       "</div>"
      ],
      "text/plain": [
       "   Actual Marks  Predicted Marks\n",
       "0            20        16.884145\n",
       "1            27        33.732261\n",
       "2            69        75.357018\n",
       "3            30        26.794801\n",
       "4            62        60.491033"
      ]
     },
     "execution_count": 22,
     "metadata": {},
     "output_type": "execute_result"
    }
   ],
   "source": [
    "scores_comparing=pd.DataFrame({'Actual Marks':test_Y,'Predicted Marks': pred_y})\n",
    "scores_comparing"
   ]
  },
  {
   "cell_type": "markdown",
   "id": "e261f8f4",
   "metadata": {},
   "source": [
    "**Visually comparing the Predicted Marks with Actual Marks**"
   ]
  },
  {
   "cell_type": "code",
   "execution_count": 23,
   "id": "b4665662",
   "metadata": {},
   "outputs": [
    {
     "data": {
      "image/png": "[encoded data removed]",
      "text/plain": [
       "<Figure size 432x288 with 1 Axes>"
      ]
     },
     "metadata": {},
     "output_type": "display_data"
    }
   ],
   "source": [
    "plt.scatter(x=test_X,y=test_Y,color=\"red\")\n",
    "plt.plot(test_X,pred_y,color=\"black\")\n",
    "plt.title('Actual vs Predicted')\n",
    "plt.xlabel('Hours Studied')\n",
    "plt.ylabel('Marks Percentage')\n",
    "plt.show()"
   ]
  },
  {
   "cell_type": "markdown",
   "id": "93f77898",
   "metadata": {},
   "source": [
    "**Evaluating the Method**"
   ]
  },
  {
   "cell_type": "code",
   "execution_count": 24,
   "id": "a04b8d18",
   "metadata": {},
   "outputs": [
    {
     "name": "stdout",
     "output_type": "stream",
     "text": [
      "Mean absolute error:  4.183859899002975\n"
     ]
    }
   ],
   "source": [
    "#Calculating the accuracy by mean absolute model\n",
    "print('Mean absolute error: ',mean_absolute_error(test_Y,pred_y))"
   ]
  },
  {
   "cell_type": "markdown",
   "id": "2ce98da4",
   "metadata": {},
   "source": [
    "**The small figure shows that the chances of error or wrong forecasting through the model are less.**"
   ]
  },
  {
   "cell_type": "markdown",
   "id": "84a8b72c",
   "metadata": {},
   "source": [
    "**What will be the predicted score of a student if he/she studies for 9.25hrs/day?**"
   ]
  },
  {
   "cell_type": "code",
   "execution_count": 25,
   "id": "ba290daf",
   "metadata": {},
   "outputs": [
    {
     "name": "stdout",
     "output_type": "stream",
     "text": [
      "Score=93.692\n"
     ]
    }
   ],
   "source": [
    "hours=[9.25]\n",
    "sol=regression.predict([hours])\n",
    "print('Score={}'.format(round(sol[0],3)))"
   ]
  },
  {
   "cell_type": "markdown",
   "id": "b2d821d9",
   "metadata": {},
   "source": [
    "**According to the regression model if a student studies 9.25 hrs/day he/she is likely to score 93.692 marks**"
   ]
  }
 ],
 "metadata": {
  "kernelspec": {
   "display_name": "Python 3 (ipykernel)",
   "language": "python",
   "name": "python3"
  },
  "language_info": {
   "codemirror_mode": {
    "name": "ipython",
    "version": 3
   },
   "file_extension": ".py",
   "mimetype": "text/x-python",
   "name": "python",
   "nbconvert_exporter": "python",
   "pygments_lexer": "ipython3",
   "version": "3.10.3"
  }
 },
 "nbformat": 4,
 "nbformat_minor": 5
}
